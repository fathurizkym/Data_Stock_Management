{
 "cells": [
  {
   "attachments": {},
   "cell_type": "markdown",
   "metadata": {},
   "source": [
    " <p style='text-align: right;'> <span style='color:Blue'> Created by: Shafanda nabil sembodo </p> </span>\n",
    "\n",
    " <h1><p style='text-align: center; font-weight: bold;'> Working with CSV Files </p></h1>\n",
    "\n",
    "CSV adalah singkatan dari \"Comma Separated Value\", dan file CSV adalah spreadsheet yang disederhanakan yang disimpan sebagai file teks biasa. Modul csv Python memudahkan penguraian file CSV. Keuntungan dari file CSV adalah kesederhanaannya. File CSV didukung secara luas oleh banyak jenis program, dapat dilihat di editor teks, dan merupakan cara yang mudah untuk merepresentasikan data spreadsheet. Format CSV persis hanya file teks dengan nilai yang dipisahkan koma.\n",
    "\n",
    "___"
   ]
  },
  {
   "attachments": {},
   "cell_type": "markdown",
   "metadata": {},
   "source": [
    "File CSV adalah file yang sederhana, tidak memiliki banyak fitur seperti pada spreadsheet Excel. Misalnya, file CSV:\n",
    "\n",
    "* Tidak memiliki tipe untuk nilainya-semuanya berupa string\n",
    "\n",
    "* Tidak memiliki pengaturan untuk ukuran atau warna huruf\n",
    "\n",
    "* Tidak memiliki beberapa lembar kerja\n",
    "\n",
    "* Tidak dapat menentukan lebar dan tinggi sel\n",
    "\n",
    "* Tidak dapat menggabungkan sel\n",
    "\n",
    "* Tidak dapat memiliki gambar atau bagan yang disematkan di dalamnya"
   ]
  },
  {
   "cell_type": "code",
   "execution_count": 29,
   "metadata": {},
   "outputs": [],
   "source": [
    "# Importing module\n",
    "import csv\n",
    "# Set path\n",
    "path = '/Users/macbookpro/Documents/Work/data-science-materials/data/external/data.csv'"
   ]
  },
  {
   "attachments": {},
   "cell_type": "markdown",
   "metadata": {},
   "source": [
    "#### **Reader Object**\n",
    "\n",
    "Untuk membaca data dari file CSV dengan modul csv, Anda perlu membuat reader object. Hal itu memungkinkan Anda mengakses baris dalam file CSV."
   ]
  },
  {
   "cell_type": "code",
   "execution_count": 24,
   "metadata": {},
   "outputs": [],
   "source": [
    "# Contoh penggunaan reader()\n",
    "file = open(path, 'r')\n",
    "exampleReader = csv.reader(file, delimiter=\"\\t\")\n",
    "\n",
    "db = []\n",
    "for row in exampleReader:\n",
    "    db.append(row)\n",
    "    #print('Row #' + str(exampleReader.line_num) + ' ' + str(row))\n",
    "\n",
    "file.close()"
   ]
  },
  {
   "attachments": {},
   "cell_type": "markdown",
   "metadata": {},
   "source": [
    "Setelah Anda mengimpor modul csv dan membuat reader object dari file CSV, Anda dapat melakukan loop dari baris dalam reader object. **Setiap baris adalah list nilai, dengan setiap nilai mewakili sel**. Panggilan fungsi print() mencetak nomor baris saat ini dan isi baris. Untuk mendapatkan nomor baris, gunakan variabel `.line_num` dari reader object, yang berisi nomor baris saat ini.\n",
    "\n",
    "**Reader object hanya dapat diulang satu kali. Untuk membaca ulang file CSV, Anda harus memanggil csv.reader lagi untuk membuat reader object**."
   ]
  },
  {
   "attachments": {},
   "cell_type": "markdown",
   "metadata": {},
   "source": [
    "#### **Writer Object**\n",
    "\n",
    "Writer object memungkinkan Anda menulis data ke file CSV. Untuk membuat writer object, Anda menggunakan fungsi `csv.writer()`."
   ]
  },
  {
   "cell_type": "code",
   "execution_count": 32,
   "metadata": {},
   "outputs": [],
   "source": [
    "# Contoh penggunaan writer()\n",
    "file = open(path, 'w')\n",
    "exampleWriter = csv.writer(file, delimiter='\\t', lineterminator='\\n')\n",
    "\n",
    "exampleWriter.writerow([3, 'Pepaya', 3, 8000])\n",
    "\n",
    "file.close()"
   ]
  },
  {
   "attachments": {},
   "cell_type": "markdown",
   "metadata": {},
   "source": [
    "**Metode** `writerow()` **untuk writer object mengambil argumen list**. Setiap nilai dalam list akan ditempatkan di selnya sendiri dalam file CSV output. Return value dari `writerow()` adalah jumlah karakter yang ditulis ke file untuk baris tersebut (termasuk karakter baris baru).\n",
    "\n",
    "**Delimeter adalah karakter yang muncul di antara sel dalam satu baris. Secara default, delimeter untuk file CSV adalah koma. Adapun lineterminator adalah karakter yang muncul di akhir baris. Secara default, lineterminator adalah baris baru**. Anda dapat mengubah karakter ke nilai yang berbeda dengan menggunakan argumen kata kunci di dalam csv.writer()."
   ]
  }
 ],
 "metadata": {
  "kernelspec": {
   "display_name": "Python 3",
   "language": "python",
   "name": "python3"
  },
  "language_info": {
   "codemirror_mode": {
    "name": "ipython",
    "version": 3
   },
   "file_extension": ".py",
   "mimetype": "text/x-python",
   "name": "python",
   "nbconvert_exporter": "python",
   "pygments_lexer": "ipython3",
   "version": "3.9.16"
  },
  "orig_nbformat": 4
 },
 "nbformat": 4,
 "nbformat_minor": 2
}
